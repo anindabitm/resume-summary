{
  "nbformat": 4,
  "nbformat_minor": 0,
  "metadata": {
    "colab": {
      "name": "app.ipynb",
      "provenance": [],
      "collapsed_sections": []
    },
    "kernelspec": {
      "name": "python3",
      "display_name": "Python 3"
    },
    "widgets": {
      "application/vnd.jupyter.widget-state+json": {
        "3ef15fb4b5a446cf8d123f02626f44d3": {
          "model_module": "@jupyter-widgets/controls",
          "model_name": "VBoxModel",
          "state": {
            "_view_name": "VBoxView",
            "_dom_classes": [],
            "_model_name": "VBoxModel",
            "_view_module": "@jupyter-widgets/controls",
            "_model_module_version": "1.5.0",
            "_view_count": null,
            "_view_module_version": "1.5.0",
            "box_style": "",
            "layout": "IPY_MODEL_d51be9f6c05d4cf4ac87349085822e82",
            "_model_module": "@jupyter-widgets/controls",
            "children": [
              "IPY_MODEL_7cd91ef4b21c4c109eb93a25d7dc92cf",
              "IPY_MODEL_1f98d619066843b2a233fca942bac70c",
              "IPY_MODEL_5a46fc5992e5453382853686c6025d19"
            ]
          }
        },
        "d51be9f6c05d4cf4ac87349085822e82": {
          "model_module": "@jupyter-widgets/base",
          "model_name": "LayoutModel",
          "state": {
            "_view_name": "LayoutView",
            "grid_template_rows": null,
            "right": null,
            "justify_content": null,
            "_view_module": "@jupyter-widgets/base",
            "overflow": null,
            "_model_module_version": "1.2.0",
            "_view_count": null,
            "flex_flow": null,
            "width": null,
            "min_width": null,
            "border": null,
            "align_items": null,
            "bottom": null,
            "_model_module": "@jupyter-widgets/base",
            "top": null,
            "grid_column": null,
            "overflow_y": null,
            "overflow_x": null,
            "grid_auto_flow": null,
            "grid_area": null,
            "grid_template_columns": null,
            "flex": null,
            "_model_name": "LayoutModel",
            "justify_items": null,
            "grid_row": null,
            "max_height": null,
            "align_content": null,
            "visibility": null,
            "align_self": null,
            "height": null,
            "min_height": null,
            "padding": null,
            "grid_auto_rows": null,
            "grid_gap": null,
            "max_width": null,
            "order": null,
            "_view_module_version": "1.2.0",
            "grid_template_areas": null,
            "object_position": null,
            "object_fit": null,
            "grid_auto_columns": null,
            "margin": null,
            "display": null,
            "left": null
          }
        },
        "7cd91ef4b21c4c109eb93a25d7dc92cf": {
          "model_module": "@jupyter-widgets/controls",
          "model_name": "LabelModel",
          "state": {
            "_view_name": "LabelView",
            "style": "IPY_MODEL_9c12f23dbaac46fd8206d742a427cf9a",
            "_dom_classes": [],
            "description": "",
            "_model_name": "LabelModel",
            "placeholder": "​",
            "_view_module": "@jupyter-widgets/controls",
            "_model_module_version": "1.5.0",
            "value": "Upload resume!",
            "_view_count": null,
            "_view_module_version": "1.5.0",
            "description_tooltip": null,
            "_model_module": "@jupyter-widgets/controls",
            "layout": "IPY_MODEL_9cb94bb283a546138d1b7eb69a26efcb"
          }
        },
        "1f98d619066843b2a233fca942bac70c": {
          "model_module": "@jupyter-widgets/controls",
          "model_name": "FileUploadModel",
          "state": {
            "_view_name": "FileUploadView",
            "_counter": 2,
            "style": "IPY_MODEL_6c3b44cbdb38404fb564da0154968613",
            "_dom_classes": [],
            "description": "Upload",
            "multiple": false,
            "_model_name": "FileUploadModel",
            "data": [
              null
            ],
            "button_style": "",
            "_view_module": "@jupyter-widgets/controls",
            "_model_module_version": "1.5.0",
            "accept": "",
            "_view_count": null,
            "disabled": false,
            "_view_module_version": "1.5.0",
            "error": "",
            "description_tooltip": null,
            "metadata": [
              {
                "name": "6899-3-4Q.docx",
                "type": "application/vnd.openxmlformats-officedocument.wordprocessingml.document",
                "size": 14267,
                "lastModified": 1594270329072
              }
            ],
            "_model_module": "@jupyter-widgets/controls",
            "layout": "IPY_MODEL_c1c22ec8c65043a88c09633c84f533a2",
            "icon": "upload"
          }
        },
        "5a46fc5992e5453382853686c6025d19": {
          "model_module": "@jupyter-widgets/controls",
          "model_name": "ButtonModel",
          "state": {
            "_view_name": "ButtonView",
            "style": "IPY_MODEL_2786dd3b02744f44a9a43cfed44e24a3",
            "_dom_classes": [],
            "description": "Summarize",
            "_model_name": "ButtonModel",
            "button_style": "",
            "_view_module": "@jupyter-widgets/controls",
            "_model_module_version": "1.5.0",
            "tooltip": "",
            "_view_count": null,
            "disabled": false,
            "_view_module_version": "1.5.0",
            "layout": "IPY_MODEL_dd9365433ef34c8baefe4018c2bc0884",
            "_model_module": "@jupyter-widgets/controls",
            "icon": ""
          }
        },
        "9c12f23dbaac46fd8206d742a427cf9a": {
          "model_module": "@jupyter-widgets/controls",
          "model_name": "DescriptionStyleModel",
          "state": {
            "_view_name": "StyleView",
            "_model_name": "DescriptionStyleModel",
            "description_width": "",
            "_view_module": "@jupyter-widgets/base",
            "_model_module_version": "1.5.0",
            "_view_count": null,
            "_view_module_version": "1.2.0",
            "_model_module": "@jupyter-widgets/controls"
          }
        },
        "9cb94bb283a546138d1b7eb69a26efcb": {
          "model_module": "@jupyter-widgets/base",
          "model_name": "LayoutModel",
          "state": {
            "_view_name": "LayoutView",
            "grid_template_rows": null,
            "right": null,
            "justify_content": null,
            "_view_module": "@jupyter-widgets/base",
            "overflow": null,
            "_model_module_version": "1.2.0",
            "_view_count": null,
            "flex_flow": null,
            "width": null,
            "min_width": null,
            "border": null,
            "align_items": null,
            "bottom": null,
            "_model_module": "@jupyter-widgets/base",
            "top": null,
            "grid_column": null,
            "overflow_y": null,
            "overflow_x": null,
            "grid_auto_flow": null,
            "grid_area": null,
            "grid_template_columns": null,
            "flex": null,
            "_model_name": "LayoutModel",
            "justify_items": null,
            "grid_row": null,
            "max_height": null,
            "align_content": null,
            "visibility": null,
            "align_self": null,
            "height": null,
            "min_height": null,
            "padding": null,
            "grid_auto_rows": null,
            "grid_gap": null,
            "max_width": null,
            "order": null,
            "_view_module_version": "1.2.0",
            "grid_template_areas": null,
            "object_position": null,
            "object_fit": null,
            "grid_auto_columns": null,
            "margin": null,
            "display": null,
            "left": null
          }
        },
        "6c3b44cbdb38404fb564da0154968613": {
          "model_module": "@jupyter-widgets/controls",
          "model_name": "ButtonStyleModel",
          "state": {
            "_view_name": "StyleView",
            "_model_name": "ButtonStyleModel",
            "_view_module": "@jupyter-widgets/base",
            "_model_module_version": "1.5.0",
            "_view_count": null,
            "button_color": null,
            "font_weight": "",
            "_view_module_version": "1.2.0",
            "_model_module": "@jupyter-widgets/controls"
          }
        },
        "c1c22ec8c65043a88c09633c84f533a2": {
          "model_module": "@jupyter-widgets/base",
          "model_name": "LayoutModel",
          "state": {
            "_view_name": "LayoutView",
            "grid_template_rows": null,
            "right": null,
            "justify_content": null,
            "_view_module": "@jupyter-widgets/base",
            "overflow": null,
            "_model_module_version": "1.2.0",
            "_view_count": null,
            "flex_flow": null,
            "width": null,
            "min_width": null,
            "border": null,
            "align_items": null,
            "bottom": null,
            "_model_module": "@jupyter-widgets/base",
            "top": null,
            "grid_column": null,
            "overflow_y": null,
            "overflow_x": null,
            "grid_auto_flow": null,
            "grid_area": null,
            "grid_template_columns": null,
            "flex": null,
            "_model_name": "LayoutModel",
            "justify_items": null,
            "grid_row": null,
            "max_height": null,
            "align_content": null,
            "visibility": null,
            "align_self": null,
            "height": null,
            "min_height": null,
            "padding": null,
            "grid_auto_rows": null,
            "grid_gap": null,
            "max_width": null,
            "order": null,
            "_view_module_version": "1.2.0",
            "grid_template_areas": null,
            "object_position": null,
            "object_fit": null,
            "grid_auto_columns": null,
            "margin": null,
            "display": null,
            "left": null
          }
        },
        "2786dd3b02744f44a9a43cfed44e24a3": {
          "model_module": "@jupyter-widgets/controls",
          "model_name": "ButtonStyleModel",
          "state": {
            "_view_name": "StyleView",
            "_model_name": "ButtonStyleModel",
            "_view_module": "@jupyter-widgets/base",
            "_model_module_version": "1.5.0",
            "_view_count": null,
            "button_color": null,
            "font_weight": "",
            "_view_module_version": "1.2.0",
            "_model_module": "@jupyter-widgets/controls"
          }
        },
        "dd9365433ef34c8baefe4018c2bc0884": {
          "model_module": "@jupyter-widgets/base",
          "model_name": "LayoutModel",
          "state": {
            "_view_name": "LayoutView",
            "grid_template_rows": null,
            "right": null,
            "justify_content": null,
            "_view_module": "@jupyter-widgets/base",
            "overflow": null,
            "_model_module_version": "1.2.0",
            "_view_count": null,
            "flex_flow": null,
            "width": null,
            "min_width": null,
            "border": null,
            "align_items": null,
            "bottom": null,
            "_model_module": "@jupyter-widgets/base",
            "top": null,
            "grid_column": null,
            "overflow_y": null,
            "overflow_x": null,
            "grid_auto_flow": null,
            "grid_area": null,
            "grid_template_columns": null,
            "flex": null,
            "_model_name": "LayoutModel",
            "justify_items": null,
            "grid_row": null,
            "max_height": null,
            "align_content": null,
            "visibility": null,
            "align_self": null,
            "height": null,
            "min_height": null,
            "padding": null,
            "grid_auto_rows": null,
            "grid_gap": null,
            "max_width": null,
            "order": null,
            "_view_module_version": "1.2.0",
            "grid_template_areas": null,
            "object_position": null,
            "object_fit": null,
            "grid_auto_columns": null,
            "margin": null,
            "display": null,
            "left": null
          }
        }
      }
    }
  },
  "cells": [
    {
      "cell_type": "code",
      "metadata": {
        "id": "Yu0PnJ4qHiMF"
      },
      "source": [
        "import ipywidgets as widgets\r\n",
        "from gensim.summarization.summarizer import summarize\r\n",
        "from gensim.summarization import keywords# Import the library\r\n",
        "# to convert MSword doc to txt for processing.\r\n",
        "import docx2txt"
      ],
      "execution_count": null,
      "outputs": []
    },
    {
      "cell_type": "code",
      "metadata": {
        "colab": {
          "base_uri": "https://localhost:8080/"
        },
        "id": "WeU9FddwIOXW",
        "outputId": "a7e2eb8b-d905-4183-8fa3-3f98abea8d64"
      },
      "source": [
        "#!pip install docx2txt"
      ],
      "execution_count": null,
      "outputs": [
        {
          "output_type": "stream",
          "text": [
            "Collecting docx2txt\n",
            "  Downloading https://files.pythonhosted.org/packages/7d/7d/60ee3f2b16d9bfdfa72e8599470a2c1a5b759cb113c6fe1006be28359327/docx2txt-0.8.tar.gz\n",
            "Building wheels for collected packages: docx2txt\n",
            "  Building wheel for docx2txt (setup.py) ... \u001b[?25l\u001b[?25hdone\n",
            "  Created wheel for docx2txt: filename=docx2txt-0.8-cp36-none-any.whl size=3963 sha256=fe6a9291e17d57800a98abff39053338f35bab51dec82346f7328bbeb65d1269\n",
            "  Stored in directory: /root/.cache/pip/wheels/b2/1f/26/a051209bbb77fc6bcfae2bb7e01fa0ff941b82292ab084d596\n",
            "Successfully built docx2txt\n",
            "Installing collected packages: docx2txt\n",
            "Successfully installed docx2txt-0.8\n"
          ],
          "name": "stdout"
        }
      ]
    },
    {
      "cell_type": "markdown",
      "metadata": {
        "id": "RxTobWGOmf3o"
      },
      "source": [
        "# Please upload the resume"
      ]
    },
    {
      "cell_type": "code",
      "metadata": {
        "id": "U7_F7b8gZtQB"
      },
      "source": [
        "#uploader = widgets.FileUpload(accept='',multiple=False,description='Choose file')\r\n",
        "#display(uploader)\r\n",
        "btn_upload = widgets.FileUpload(accept='',multiple=False)"
      ],
      "execution_count": null,
      "outputs": []
    },
    {
      "cell_type": "code",
      "metadata": {
        "id": "GskQPxPkL858"
      },
      "source": [
        "#btn_run = widgets.Button(description='Summarize')"
      ],
      "execution_count": null,
      "outputs": []
    },
    {
      "cell_type": "code",
      "metadata": {
        "id": "YhSICtDrIz3f"
      },
      "source": [
        "#def on_click(change):\r\n",
        "#  [uploaded_file] = btn_upload.value\r\n",
        "#  with open(\"/tmp/output.docx\", \"wb\") as fp:\r\n",
        "#    fp.write(btn_upload.value[uploaded_file]['content'])\r\n",
        "#  text = docx2txt.process(\"/tmp/output.docx\")\r\n",
        "#  sum = summarize(text,ratio=0.25,split=True)\r\n",
        "#  print(sum)"
      ],
      "execution_count": null,
      "outputs": []
    },
    {
      "cell_type": "code",
      "metadata": {
        "id": "WKBizQu8aGwL"
      },
      "source": [
        "#btn_run.on_click(on_click)"
      ],
      "execution_count": null,
      "outputs": []
    },
    {
      "cell_type": "code",
      "metadata": {
        "id": "GD23Ml2fkmPZ",
        "colab": {
          "base_uri": "https://localhost:8080/",
          "height": 167,
          "referenced_widgets": [
            "3ef15fb4b5a446cf8d123f02626f44d3",
            "d51be9f6c05d4cf4ac87349085822e82",
            "7cd91ef4b21c4c109eb93a25d7dc92cf",
            "1f98d619066843b2a233fca942bac70c",
            "5a46fc5992e5453382853686c6025d19",
            "9c12f23dbaac46fd8206d742a427cf9a",
            "9cb94bb283a546138d1b7eb69a26efcb",
            "6c3b44cbdb38404fb564da0154968613",
            "c1c22ec8c65043a88c09633c84f533a2",
            "2786dd3b02744f44a9a43cfed44e24a3",
            "dd9365433ef34c8baefe4018c2bc0884"
          ]
        },
        "outputId": "91dbae03-0bab-4246-9907-ed084b8aedc5"
      },
      "source": [
        "#display(VBox([widgets.Label('Upload resume!'), btn_upload,btn_run]))"
      ],
      "execution_count": null,
      "outputs": [
        {
          "output_type": "display_data",
          "data": {
            "application/vnd.jupyter.widget-view+json": {
              "model_id": "3ef15fb4b5a446cf8d123f02626f44d3",
              "version_minor": 0,
              "version_major": 2
            },
            "text/plain": [
              "VBox(children=(Label(value='Upload resume!'), FileUpload(value={}, description='Upload'), Button(description='…"
            ]
          },
          "metadata": {
            "tags": []
          }
        },
        {
          "output_type": "stream",
          "text": [
            "['My initial role was as Technical Service Engineer, serving customers across multiple JM business units such as Refineries, Gas Processing and Syngas.', 'I have also encouraged the fostering of strong customer relationships, highlighted by the excellent level of customer service provided by the team during visits and on-site support jobs.', 'In my present role, through carefully nurturing customer relationship, I have also been able to generate market intelligence and leads for the sales and business development team to ensure a better market share for our organization.', 'Before relocating to Malaysia, I worked as a Technical Service Engineer for the JM Refineries business in Gurgaon, India.', 'My role entailed delivering technical support to the Sales team and addressing after-sales customer requirements.']\n",
            "['The discussion in this analysis pertains to explaining the relationship between the Heckscher-Ohlin factor endowment model and the theories of absolute advantage by Adam Smith and comparative advantage by David Ricardo.']\n"
          ],
          "name": "stdout"
        }
      ]
    },
    {
      "cell_type": "code",
      "metadata": {
        "id": "nqZshVfKlS-I"
      },
      "source": [
        ""
      ],
      "execution_count": null,
      "outputs": []
    },
    {
      "cell_type": "code",
      "metadata": {
        "id": "ENFeu1w7mIP3"
      },
      "source": [
        ""
      ],
      "execution_count": null,
      "outputs": []
    },
    {
      "cell_type": "markdown",
      "metadata": {
        "id": "3lapFd5Fm7E1"
      },
      "source": [
        "# Summary:"
      ]
    },
    {
      "cell_type": "code",
      "metadata": {
        "id": "5ADR1sVjma1w"
      },
      "source": [
        "print(sum)"
      ],
      "execution_count": null,
      "outputs": []
    }
  ]
}