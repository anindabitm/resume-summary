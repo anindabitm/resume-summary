{
  "nbformat": 4,
  "nbformat_minor": 0,
  "metadata": {
    "colab": {
      "name": "app.ipynb",
      "provenance": [],
      "collapsed_sections": []
    },
    "kernelspec": {
      "name": "python3",
      "display_name": "Python 3"
    },
    "widgets": {
      "application/vnd.jupyter.widget-state+json": {
        "f3ae820b1ea9401f8bf3c3feb77b0a29": {
          "model_module": "@jupyter-widgets/controls",
          "model_name": "FileUploadModel",
          "state": {
            "_view_name": "FileUploadView",
            "_counter": 0,
            "style": "IPY_MODEL_03a22e449ec444fabc4bbe8ae17266e0",
            "_dom_classes": [],
            "description": "Upload",
            "multiple": false,
            "_model_name": "FileUploadModel",
            "data": [],
            "button_style": "",
            "_view_module": "@jupyter-widgets/controls",
            "_model_module_version": "1.5.0",
            "accept": "",
            "_view_count": null,
            "disabled": false,
            "_view_module_version": "1.5.0",
            "error": "",
            "description_tooltip": null,
            "metadata": [],
            "_model_module": "@jupyter-widgets/controls",
            "layout": "IPY_MODEL_a81cda45c67a416a9661b5b44d01e7ca",
            "icon": "upload"
          }
        },
        "03a22e449ec444fabc4bbe8ae17266e0": {
          "model_module": "@jupyter-widgets/controls",
          "model_name": "ButtonStyleModel",
          "state": {
            "_view_name": "StyleView",
            "_model_name": "ButtonStyleModel",
            "_view_module": "@jupyter-widgets/base",
            "_model_module_version": "1.5.0",
            "_view_count": null,
            "button_color": null,
            "font_weight": "",
            "_view_module_version": "1.2.0",
            "_model_module": "@jupyter-widgets/controls"
          }
        },
        "a81cda45c67a416a9661b5b44d01e7ca": {
          "model_module": "@jupyter-widgets/base",
          "model_name": "LayoutModel",
          "state": {
            "_view_name": "LayoutView",
            "grid_template_rows": null,
            "right": null,
            "justify_content": null,
            "_view_module": "@jupyter-widgets/base",
            "overflow": null,
            "_model_module_version": "1.2.0",
            "_view_count": null,
            "flex_flow": null,
            "width": null,
            "min_width": null,
            "border": null,
            "align_items": null,
            "bottom": null,
            "_model_module": "@jupyter-widgets/base",
            "top": null,
            "grid_column": null,
            "overflow_y": null,
            "overflow_x": null,
            "grid_auto_flow": null,
            "grid_area": null,
            "grid_template_columns": null,
            "flex": null,
            "_model_name": "LayoutModel",
            "justify_items": null,
            "grid_row": null,
            "max_height": null,
            "align_content": null,
            "visibility": null,
            "align_self": null,
            "height": null,
            "min_height": null,
            "padding": null,
            "grid_auto_rows": null,
            "grid_gap": null,
            "max_width": null,
            "order": null,
            "_view_module_version": "1.2.0",
            "grid_template_areas": null,
            "object_position": null,
            "object_fit": null,
            "grid_auto_columns": null,
            "margin": null,
            "display": null,
            "left": null
          }
        },
        "68222fa15c97411d847981b4ab3fad38": {
          "model_module": "@jupyter-widgets/controls",
          "model_name": "ButtonModel",
          "state": {
            "_view_name": "ButtonView",
            "style": "IPY_MODEL_467fad74b63f472a91889f152c523197",
            "_dom_classes": [],
            "description": "Summarize",
            "_model_name": "ButtonModel",
            "button_style": "",
            "_view_module": "@jupyter-widgets/controls",
            "_model_module_version": "1.5.0",
            "tooltip": "",
            "_view_count": null,
            "disabled": false,
            "_view_module_version": "1.5.0",
            "layout": "IPY_MODEL_8ed7b91584e744069182e9a8280ef13e",
            "_model_module": "@jupyter-widgets/controls",
            "icon": ""
          }
        },
        "467fad74b63f472a91889f152c523197": {
          "model_module": "@jupyter-widgets/controls",
          "model_name": "ButtonStyleModel",
          "state": {
            "_view_name": "StyleView",
            "_model_name": "ButtonStyleModel",
            "_view_module": "@jupyter-widgets/base",
            "_model_module_version": "1.5.0",
            "_view_count": null,
            "button_color": null,
            "font_weight": "",
            "_view_module_version": "1.2.0",
            "_model_module": "@jupyter-widgets/controls"
          }
        },
        "8ed7b91584e744069182e9a8280ef13e": {
          "model_module": "@jupyter-widgets/base",
          "model_name": "LayoutModel",
          "state": {
            "_view_name": "LayoutView",
            "grid_template_rows": null,
            "right": null,
            "justify_content": null,
            "_view_module": "@jupyter-widgets/base",
            "overflow": null,
            "_model_module_version": "1.2.0",
            "_view_count": null,
            "flex_flow": null,
            "width": null,
            "min_width": null,
            "border": null,
            "align_items": null,
            "bottom": null,
            "_model_module": "@jupyter-widgets/base",
            "top": null,
            "grid_column": null,
            "overflow_y": null,
            "overflow_x": null,
            "grid_auto_flow": null,
            "grid_area": null,
            "grid_template_columns": null,
            "flex": null,
            "_model_name": "LayoutModel",
            "justify_items": null,
            "grid_row": null,
            "max_height": null,
            "align_content": null,
            "visibility": null,
            "align_self": null,
            "height": null,
            "min_height": null,
            "padding": null,
            "grid_auto_rows": null,
            "grid_gap": null,
            "max_width": null,
            "order": null,
            "_view_module_version": "1.2.0",
            "grid_template_areas": null,
            "object_position": null,
            "object_fit": null,
            "grid_auto_columns": null,
            "margin": null,
            "display": null,
            "left": null
          }
        }
      }
    }
  },
  "cells": [
    {
      "cell_type": "code",
      "metadata": {
        "colab": {
          "base_uri": "https://localhost:8080/"
        },
        "id": "WeU9FddwIOXW",
        "outputId": "a7e2eb8b-d905-4183-8fa3-3f98abea8d64"
      },
      "source": [
        "#!pip install docx2txt"
      ],
      "execution_count": null,
      "outputs": [
        {
          "output_type": "stream",
          "text": [
            "Collecting docx2txt\n",
            "  Downloading https://files.pythonhosted.org/packages/7d/7d/60ee3f2b16d9bfdfa72e8599470a2c1a5b759cb113c6fe1006be28359327/docx2txt-0.8.tar.gz\n",
            "Building wheels for collected packages: docx2txt\n",
            "  Building wheel for docx2txt (setup.py) ... \u001b[?25l\u001b[?25hdone\n",
            "  Created wheel for docx2txt: filename=docx2txt-0.8-cp36-none-any.whl size=3963 sha256=fe6a9291e17d57800a98abff39053338f35bab51dec82346f7328bbeb65d1269\n",
            "  Stored in directory: /root/.cache/pip/wheels/b2/1f/26/a051209bbb77fc6bcfae2bb7e01fa0ff941b82292ab084d596\n",
            "Successfully built docx2txt\n",
            "Installing collected packages: docx2txt\n",
            "Successfully installed docx2txt-0.8\n"
          ],
          "name": "stdout"
        }
      ]
    },
    {
      "cell_type": "code",
      "metadata": {
        "id": "Yu0PnJ4qHiMF"
      },
      "source": [
        "import ipywidgets as widgets\r\n",
        "from IPython import display as ipd\r\n",
        "from gensim.summarization.summarizer import summarize\r\n",
        "from gensim.summarization import keywords# Import the library\r\n",
        "# to convert MSword doc to txt for processing.\r\n",
        "#import docx2txt"
      ],
      "execution_count": 14,
      "outputs": []
    },
    {
      "cell_type": "markdown",
      "metadata": {
        "id": "RxTobWGOmf3o"
      },
      "source": [
        "# Please upload the resume"
      ]
    },
    {
      "cell_type": "code",
      "metadata": {
        "id": "U7_F7b8gZtQB",
        "colab": {
          "base_uri": "https://localhost:8080/",
          "height": 49,
          "referenced_widgets": [
            "f3ae820b1ea9401f8bf3c3feb77b0a29",
            "03a22e449ec444fabc4bbe8ae17266e0",
            "a81cda45c67a416a9661b5b44d01e7ca"
          ]
        },
        "outputId": "9ab4739f-95f5-4c49-9cd4-31259b9b373d"
      },
      "source": [
        "#uploader = widgets.FileUpload(accept='',multiple=False,description='Choose file')\r\n",
        "#display(uploader)\r\n",
        "btn_upload = widgets.FileUpload(accept='',multiple=False)\r\n",
        "#ipd.display(btn_upload)"
      ],
      "execution_count": 15,
      "outputs": [
        {
          "output_type": "display_data",
          "data": {
            "application/vnd.jupyter.widget-view+json": {
              "model_id": "f3ae820b1ea9401f8bf3c3feb77b0a29",
              "version_minor": 0,
              "version_major": 2
            },
            "text/plain": [
              "FileUpload(value={}, description='Upload')"
            ]
          },
          "metadata": {
            "tags": []
          }
        }
      ]
    },
    {
      "cell_type": "code",
      "metadata": {
        "id": "GskQPxPkL858",
        "colab": {
          "base_uri": "https://localhost:8080/",
          "height": 49,
          "referenced_widgets": [
            "68222fa15c97411d847981b4ab3fad38",
            "467fad74b63f472a91889f152c523197",
            "8ed7b91584e744069182e9a8280ef13e"
          ]
        },
        "outputId": "2d51b045-f9ab-47ae-a0ad-0f0064860df2"
      },
      "source": [
        "btn_run = widgets.Button(description='Summarize')\r\n",
        "ipd.display(btn_run)"
      ],
      "execution_count": 16,
      "outputs": [
        {
          "output_type": "display_data",
          "data": {
            "application/vnd.jupyter.widget-view+json": {
              "model_id": "68222fa15c97411d847981b4ab3fad38",
              "version_minor": 0,
              "version_major": 2
            },
            "text/plain": [
              "Button(description='Summarize', style=ButtonStyle())"
            ]
          },
          "metadata": {
            "tags": []
          }
        }
      ]
    },
    {
      "cell_type": "code",
      "metadata": {
        "id": "YhSICtDrIz3f"
      },
      "source": [
        "#def on_click(change):\r\n",
        "#  [uploaded_file] = btn_upload.value\r\n",
        "#  with open(\"/tmp/output.docx\", \"wb\") as fp:\r\n",
        "#    fp.write(btn_upload.value[uploaded_file]['content'])\r\n",
        "#  text = docx2txt.process(\"/tmp/output.docx\")\r\n",
        "#  sum = summarize(text,ratio=0.25,split=True)\r\n",
        "#  print(sum)"
      ],
      "execution_count": null,
      "outputs": []
    },
    {
      "cell_type": "code",
      "metadata": {
        "id": "WKBizQu8aGwL"
      },
      "source": [
        "#btn_run.on_click(on_click)"
      ],
      "execution_count": null,
      "outputs": []
    },
    {
      "cell_type": "markdown",
      "metadata": {
        "id": "3lapFd5Fm7E1"
      },
      "source": [
        "# Summary:"
      ]
    },
    {
      "cell_type": "code",
      "metadata": {
        "id": "5ADR1sVjma1w"
      },
      "source": [
        "#print(sum)"
      ],
      "execution_count": null,
      "outputs": []
    }
  ]
}
