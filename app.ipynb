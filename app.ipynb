{
  "nbformat": 4,
  "nbformat_minor": 0,
  "metadata": {
    "colab": {
      "name": "app.ipynb",
      "provenance": [],
      "collapsed_sections": []
    },
    "kernelspec": {
      "name": "python3",
      "display_name": "Python 3"
    },
    "widgets": {
      "application/vnd.jupyter.widget-state+json": {
        "4e7a27b9a0bd476389c9d0f3ef7242a9": {
          "model_module": "@jupyter-widgets/controls",
          "model_name": "FileUploadModel",
          "state": {
            "_view_name": "FileUploadView",
            "_counter": 0,
            "style": "IPY_MODEL_849ed8d76fe742a59abb41fc115d15af",
            "_dom_classes": [],
            "description": "Upload",
            "multiple": false,
            "_model_name": "FileUploadModel",
            "data": [],
            "button_style": "",
            "_view_module": "@jupyter-widgets/controls",
            "_model_module_version": "1.5.0",
            "accept": "",
            "_view_count": null,
            "disabled": false,
            "_view_module_version": "1.5.0",
            "error": "",
            "description_tooltip": null,
            "metadata": [],
            "_model_module": "@jupyter-widgets/controls",
            "layout": "IPY_MODEL_eaa042000c2545c4b048cf56b35e30c1",
            "icon": "upload"
          }
        },
        "849ed8d76fe742a59abb41fc115d15af": {
          "model_module": "@jupyter-widgets/controls",
          "model_name": "ButtonStyleModel",
          "state": {
            "_view_name": "StyleView",
            "_model_name": "ButtonStyleModel",
            "_view_module": "@jupyter-widgets/base",
            "_model_module_version": "1.5.0",
            "_view_count": null,
            "button_color": null,
            "font_weight": "",
            "_view_module_version": "1.2.0",
            "_model_module": "@jupyter-widgets/controls"
          }
        },
        "eaa042000c2545c4b048cf56b35e30c1": {
          "model_module": "@jupyter-widgets/base",
          "model_name": "LayoutModel",
          "state": {
            "_view_name": "LayoutView",
            "grid_template_rows": null,
            "right": null,
            "justify_content": null,
            "_view_module": "@jupyter-widgets/base",
            "overflow": null,
            "_model_module_version": "1.2.0",
            "_view_count": null,
            "flex_flow": null,
            "width": null,
            "min_width": null,
            "border": null,
            "align_items": null,
            "bottom": null,
            "_model_module": "@jupyter-widgets/base",
            "top": null,
            "grid_column": null,
            "overflow_y": null,
            "overflow_x": null,
            "grid_auto_flow": null,
            "grid_area": null,
            "grid_template_columns": null,
            "flex": null,
            "_model_name": "LayoutModel",
            "justify_items": null,
            "grid_row": null,
            "max_height": null,
            "align_content": null,
            "visibility": null,
            "align_self": null,
            "height": null,
            "min_height": null,
            "padding": null,
            "grid_auto_rows": null,
            "grid_gap": null,
            "max_width": null,
            "order": null,
            "_view_module_version": "1.2.0",
            "grid_template_areas": null,
            "object_position": null,
            "object_fit": null,
            "grid_auto_columns": null,
            "margin": null,
            "display": null,
            "left": null
          }
        },
        "68222fa15c97411d847981b4ab3fad38": {
          "model_module": "@jupyter-widgets/controls",
          "model_name": "ButtonModel",
          "state": {
            "_view_name": "ButtonView",
            "style": "IPY_MODEL_467fad74b63f472a91889f152c523197",
            "_dom_classes": [],
            "description": "Summarize",
            "_model_name": "ButtonModel",
            "button_style": "",
            "_view_module": "@jupyter-widgets/controls",
            "_model_module_version": "1.5.0",
            "tooltip": "",
            "_view_count": null,
            "disabled": false,
            "_view_module_version": "1.5.0",
            "layout": "IPY_MODEL_8ed7b91584e744069182e9a8280ef13e",
            "_model_module": "@jupyter-widgets/controls",
            "icon": ""
          }
        },
        "467fad74b63f472a91889f152c523197": {
          "model_module": "@jupyter-widgets/controls",
          "model_name": "ButtonStyleModel",
          "state": {
            "_view_name": "StyleView",
            "_model_name": "ButtonStyleModel",
            "_view_module": "@jupyter-widgets/base",
            "_model_module_version": "1.5.0",
            "_view_count": null,
            "button_color": null,
            "font_weight": "",
            "_view_module_version": "1.2.0",
            "_model_module": "@jupyter-widgets/controls"
          }
        },
        "8ed7b91584e744069182e9a8280ef13e": {
          "model_module": "@jupyter-widgets/base",
          "model_name": "LayoutModel",
          "state": {
            "_view_name": "LayoutView",
            "grid_template_rows": null,
            "right": null,
            "justify_content": null,
            "_view_module": "@jupyter-widgets/base",
            "overflow": null,
            "_model_module_version": "1.2.0",
            "_view_count": null,
            "flex_flow": null,
            "width": null,
            "min_width": null,
            "border": null,
            "align_items": null,
            "bottom": null,
            "_model_module": "@jupyter-widgets/base",
            "top": null,
            "grid_column": null,
            "overflow_y": null,
            "overflow_x": null,
            "grid_auto_flow": null,
            "grid_area": null,
            "grid_template_columns": null,
            "flex": null,
            "_model_name": "LayoutModel",
            "justify_items": null,
            "grid_row": null,
            "max_height": null,
            "align_content": null,
            "visibility": null,
            "align_self": null,
            "height": null,
            "min_height": null,
            "padding": null,
            "grid_auto_rows": null,
            "grid_gap": null,
            "max_width": null,
            "order": null,
            "_view_module_version": "1.2.0",
            "grid_template_areas": null,
            "object_position": null,
            "object_fit": null,
            "grid_auto_columns": null,
            "margin": null,
            "display": null,
            "left": null
          }
        }
      }
    }
  },
  "cells": [
    {
      "cell_type": "code",
      "metadata": {
        "id": "Yu0PnJ4qHiMF"
      },
      "source": [
        "import ipywidgets as widgets\r\n",
        "from IPython import display as ipd\r\n",
        "from gensim.summarization.summarizer import summarize\r\n",
        "from gensim.summarization import keywords# Import the library\r\n",
        "# to convert MSword doc to txt for processing.\r\n",
        "import docx2txt"
      ],
      "execution_count": 17,
      "outputs": []
    },
    {
      "cell_type": "markdown",
      "metadata": {
        "id": "RxTobWGOmf3o"
      },
      "source": [
        "# Please upload the resume"
      ]
    },
    {
      "cell_type": "code",
      "metadata": {
        "id": "U7_F7b8gZtQB",
        "colab": {
          "base_uri": "https://localhost:8080/",
          "height": 49,
          "referenced_widgets": [
            "4e7a27b9a0bd476389c9d0f3ef7242a9",
            "849ed8d76fe742a59abb41fc115d15af",
            "eaa042000c2545c4b048cf56b35e30c1"
          ]
        },
        "outputId": "5551353c-9f72-45f8-bdf3-8b183c8c04fb"
      },
      "source": [
        "btn_upload = widgets.FileUpload(accept='',multiple=False)\r\n",
        "ipd.display(btn_upload)"
      ],
      "execution_count": 19,
      "outputs": [
        {
          "output_type": "display_data",
          "data": {
            "application/vnd.jupyter.widget-view+json": {
              "model_id": "4e7a27b9a0bd476389c9d0f3ef7242a9",
              "version_minor": 0,
              "version_major": 2
            },
            "text/plain": [
              "FileUpload(value={}, description='Upload')"
            ]
          },
          "metadata": {
            "tags": []
          }
        }
      ]
    },
    {
      "cell_type": "code",
      "metadata": {
        "id": "GskQPxPkL858",
        "colab": {
          "base_uri": "https://localhost:8080/",
          "height": 49,
          "referenced_widgets": [
            "68222fa15c97411d847981b4ab3fad38",
            "467fad74b63f472a91889f152c523197",
            "8ed7b91584e744069182e9a8280ef13e"
          ]
        },
        "outputId": "2d51b045-f9ab-47ae-a0ad-0f0064860df2"
      },
      "source": [
        "btn_run = widgets.Button(description='Summarize')\r\n",
        "ipd.display(btn_run)"
      ],
      "execution_count": 16,
      "outputs": [
        {
          "output_type": "display_data",
          "data": {
            "application/vnd.jupyter.widget-view+json": {
              "model_id": "68222fa15c97411d847981b4ab3fad38",
              "version_minor": 0,
              "version_major": 2
            },
            "text/plain": [
              "Button(description='Summarize', style=ButtonStyle())"
            ]
          },
          "metadata": {
            "tags": []
          }
        }
      ]
    },
    {
      "cell_type": "markdown",
      "metadata": {
        "id": "3lapFd5Fm7E1"
      },
      "source": [
        "# Summary:"
      ]
    },
    {
      "cell_type": "code",
      "metadata": {
        "id": "YhSICtDrIz3f"
      },
      "source": [
        "def on_click(change):\r\n",
        "  [uploaded_file] = btn_upload.value\r\n",
        "  with open(\"/tmp/output.docx\", \"wb\") as fp:\r\n",
        "    fp.write(btn_upload.value[uploaded_file]['content'])\r\n",
        "  text = docx2txt.process(\"/tmp/output.docx\")\r\n",
        "  sum = summarize(text,ratio=0.25,split=True)\r\n",
        "  print(sum)"
      ],
      "execution_count": null,
      "outputs": []
    },
    {
      "cell_type": "code",
      "metadata": {
        "id": "WKBizQu8aGwL"
      },
      "source": [
        "btn_run.on_click(on_click)"
      ],
      "execution_count": null,
      "outputs": []
    }
  ]
}