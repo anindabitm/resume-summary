{
  "nbformat": 4,
  "nbformat_minor": 0,
  "metadata": {
    "colab": {
      "name": "app",
      "provenance": [],
      "collapsed_sections": []
    },
    "kernelspec": {
      "name": "python3",
      "display_name": "Python 3"
    },
    "widgets": {
      "application/vnd.jupyter.widget-state+json": {
        "8df6e83ed5f34ddab7abd22e5b2dd413": {
          "model_module": "@jupyter-widgets/controls",
          "model_name": "FileUploadModel",
          "state": {
            "_view_name": "FileUploadView",
            "_counter": 1,
            "style": "IPY_MODEL_de9a08d9637546d683fbaefdb4cbfe71",
            "_dom_classes": [],
            "description": "Upload",
            "multiple": false,
            "_model_name": "FileUploadModel",
            "data": [
              null
            ],
            "button_style": "",
            "_view_module": "@jupyter-widgets/controls",
            "_model_module_version": "1.5.0",
            "accept": "",
            "_view_count": null,
            "disabled": false,
            "_view_module_version": "1.5.0",
            "error": "",
            "description_tooltip": null,
            "metadata": [
              {
                "name": "MA.docx",
                "type": "application/vnd.openxmlformats-officedocument.wordprocessingml.document",
                "size": 23965,
                "lastModified": 1606913120864
              }
            ],
            "_model_module": "@jupyter-widgets/controls",
            "layout": "IPY_MODEL_e1e4c88cae3d45019996220707293d08",
            "icon": "upload"
          }
        },
        "de9a08d9637546d683fbaefdb4cbfe71": {
          "model_module": "@jupyter-widgets/controls",
          "model_name": "ButtonStyleModel",
          "state": {
            "_view_name": "StyleView",
            "_model_name": "ButtonStyleModel",
            "_view_module": "@jupyter-widgets/base",
            "_model_module_version": "1.5.0",
            "_view_count": null,
            "button_color": null,
            "font_weight": "",
            "_view_module_version": "1.2.0",
            "_model_module": "@jupyter-widgets/controls"
          }
        },
        "e1e4c88cae3d45019996220707293d08": {
          "model_module": "@jupyter-widgets/base",
          "model_name": "LayoutModel",
          "state": {
            "_view_name": "LayoutView",
            "grid_template_rows": null,
            "right": null,
            "justify_content": null,
            "_view_module": "@jupyter-widgets/base",
            "overflow": null,
            "_model_module_version": "1.2.0",
            "_view_count": null,
            "flex_flow": null,
            "width": null,
            "min_width": null,
            "border": null,
            "align_items": null,
            "bottom": null,
            "_model_module": "@jupyter-widgets/base",
            "top": null,
            "grid_column": null,
            "overflow_y": null,
            "overflow_x": null,
            "grid_auto_flow": null,
            "grid_area": null,
            "grid_template_columns": null,
            "flex": null,
            "_model_name": "LayoutModel",
            "justify_items": null,
            "grid_row": null,
            "max_height": null,
            "align_content": null,
            "visibility": null,
            "align_self": null,
            "height": null,
            "min_height": null,
            "padding": null,
            "grid_auto_rows": null,
            "grid_gap": null,
            "max_width": null,
            "order": null,
            "_view_module_version": "1.2.0",
            "grid_template_areas": null,
            "object_position": null,
            "object_fit": null,
            "grid_auto_columns": null,
            "margin": null,
            "display": null,
            "left": null
          }
        }
      }
    }
  },
  "cells": [
    {
      "cell_type": "code",
      "metadata": {
        "id": "elWyD0oOZIKZ"
      },
      "source": [
        "import ipywidgets as widgets\r\n",
        "from gensim.summarization.summarizer import summarize\r\n",
        "from gensim.summarization import keywords# Import the library\r\n",
        "# to convert MSword doc to txt for processing.\r\n",
        "import docx2txt"
      ],
      "execution_count": 22,
      "outputs": []
    },
    {
      "cell_type": "markdown",
      "metadata": {
        "id": "RxTobWGOmf3o"
      },
      "source": [
        "# Please upload the resume"
      ]
    },
    {
      "cell_type": "code",
      "metadata": {
        "colab": {
          "base_uri": "https://localhost:8080/",
          "height": 49,
          "referenced_widgets": [
            "8df6e83ed5f34ddab7abd22e5b2dd413",
            "de9a08d9637546d683fbaefdb4cbfe71",
            "e1e4c88cae3d45019996220707293d08"
          ]
        },
        "id": "U7_F7b8gZtQB",
        "outputId": "2362ce22-423c-486f-bf57-9065885b7422"
      },
      "source": [
        "uploader = widgets.FileUpload(accept='',multiple=False)\r\n",
        "display(uploader)"
      ],
      "execution_count": 25,
      "outputs": [
        {
          "output_type": "display_data",
          "data": {
            "application/vnd.jupyter.widget-view+json": {
              "model_id": "8df6e83ed5f34ddab7abd22e5b2dd413",
              "version_minor": 0,
              "version_major": 2
            },
            "text/plain": [
              "FileUpload(value={}, description='Upload')"
            ]
          },
          "metadata": {
            "tags": []
          }
        }
      ]
    },
    {
      "cell_type": "code",
      "metadata": {
        "id": "WKBizQu8aGwL"
      },
      "source": [
        "[uploaded_file] = uploader.value"
      ],
      "execution_count": 31,
      "outputs": []
    },
    {
      "cell_type": "code",
      "metadata": {
        "id": "GD23Ml2fkmPZ"
      },
      "source": [
        "with open(\"/tmp/output.docx\", \"wb\") as fp:\r\n",
        "    fp.write(uploader.value[uploaded_file]['content'])"
      ],
      "execution_count": 32,
      "outputs": []
    },
    {
      "cell_type": "code",
      "metadata": {
        "id": "nqZshVfKlS-I"
      },
      "source": [
        "text = docx2txt.process(\"/tmp/output.docx\")"
      ],
      "execution_count": 33,
      "outputs": []
    },
    {
      "cell_type": "code",
      "metadata": {
        "id": "ENFeu1w7mIP3"
      },
      "source": [
        "sum = summarize(text,ratio=0.25,split=True)"
      ],
      "execution_count": null,
      "outputs": []
    },
    {
      "cell_type": "markdown",
      "metadata": {
        "id": "3lapFd5Fm7E1"
      },
      "source": [
        "# Summary:"
      ]
    },
    {
      "cell_type": "code",
      "metadata": {
        "id": "5ADR1sVjma1w"
      },
      "source": [
        "print(sum)"
      ],
      "execution_count": null,
      "outputs": []
    }
  ]
}